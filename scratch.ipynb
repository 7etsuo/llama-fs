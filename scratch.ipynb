{
 "cells": [
  {
   "cell_type": "code",
   "execution_count": 5,
   "metadata": {
    "metadata": {}
   },
   "outputs": [],
   "source": [
    "import openai\n",
    "import groq\n",
    "import os\n",
    "import json\n",
    "from groq import Groq\n",
    "from llama_index.core import SimpleDirectoryReader\n"
   ]
  },
  {
   "cell_type": "code",
   "execution_count": 6,
   "metadata": {
    "metadata": {}
   },
   "outputs": [],
   "source": [
    "os.environ[\"GROQ_API_KEY\"] = \"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\""
   ]
  },
  {
   "cell_type": "markdown",
   "metadata": {},
   "source": [
    "# Summarize Files\n"
   ]
  },
  {
   "cell_type": "code",
   "execution_count": 8,
   "metadata": {
    "metadata": {}
   },
   "outputs": [],
   "source": [
    "reader = SimpleDirectoryReader(input_dir=\".\")\n",
    "documents = reader.load_data()\n",
    "doc_dicts = [{\"content\": d.text, **d.metadata} for d in documents]"
   ]
  },
  {
   "cell_type": "code",
   "execution_count": 9,
   "metadata": {
    "metadata": {}
   },
   "outputs": [
    {
     "data": {
      "text/plain": [
       "[{'content': 'MIT License\\n\\nCopyright (c) 2024 Ajay Arasanipalai\\n\\nPermission is hereby granted, free of charge, to any person obtaining a copy\\nof this software and associated documentation files (the \"Software\"), to deal\\nin the Software without restriction, including without limitation the rights\\nto use, copy, modify, merge, publish, distribute, sublicense, and/or sell\\ncopies of the Software, and to permit persons to whom the Software is\\nfurnished to do so, subject to the following conditions:\\n\\nThe above copyright notice and this permission notice shall be included in all\\ncopies or substantial portions of the Software.\\n\\nTHE SOFTWARE IS PROVIDED \"AS IS\", WITHOUT WARRANTY OF ANY KIND, EXPRESS OR\\nIMPLIED, INCLUDING BUT NOT LIMITED TO THE WARRANTIES OF MERCHANTABILITY,\\nFITNESS FOR A PARTICULAR PURPOSE AND NONINFRINGEMENT. IN NO EVENT SHALL THE\\nAUTHORS OR COPYRIGHT HOLDERS BE LIABLE FOR ANY CLAIM, DAMAGES OR OTHER\\nLIABILITY, WHETHER IN AN ACTION OF CONTRACT, TORT OR OTHERWISE, ARISING FROM,\\nOUT OF OR IN CONNECTION WITH THE SOFTWARE OR THE USE OR OTHER DEALINGS IN THE\\nSOFTWARE.\\n',\n",
       "  'file_path': '/Users/iyaja/Git/llama-fs/LICENSE',\n",
       "  'file_name': 'LICENSE',\n",
       "  'file_size': 1074,\n",
       "  'creation_date': '2024-05-11',\n",
       "  'last_modified_date': '2024-05-11'},\n",
       " {'content': 'def get_doc_summaries(path: str) -> List[Dict[str, str]]:\\n\\n    [\\n        {\\n            filename: \\n            dir: \\n            meta: \\n            contents: \\n            summary: \\n        }\\n    ]\\n',\n",
       "  'file_path': '/Users/iyaja/Git/llama-fs/loader.py',\n",
       "  'file_name': 'loader.py',\n",
       "  'file_type': 'text/x-python',\n",
       "  'file_size': 196,\n",
       "  'creation_date': '2024-05-11',\n",
       "  'last_modified_date': '2024-05-11'},\n",
       " {'content': 'ollama\\nchromadb\\nllama-index\\nlitellm\\ngroq\\ndocx2txt',\n",
       "  'file_path': '/Users/iyaja/Git/llama-fs/requirements.txt',\n",
       "  'file_name': 'requirements.txt',\n",
       "  'file_type': 'text/plain',\n",
       "  'file_size': 49,\n",
       "  'creation_date': '2024-05-11',\n",
       "  'last_modified_date': '2024-05-11'},\n",
       " {'content': '\\n\\n\\nimport openai\\nimport groq\\nimport os\\nimport json\\nfrom groq import Groq\\nfrom llama_index.core import SimpleDirectoryReader\\n\\n\\n# ',\n",
       "  'file_path': '/Users/iyaja/Git/llama-fs/scratch.ipynb',\n",
       "  'file_name': 'scratch.ipynb',\n",
       "  'file_size': 7717,\n",
       "  'creation_date': '2024-05-11',\n",
       "  'last_modified_date': '2024-05-11'},\n",
       " {'content': '\\n\\n\\nos.environ[\"GROQ_API_KEY\"] = \"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\"\\n\\n\\n# # Summarize Files\\n# \\n\\n# ',\n",
       "  'file_path': '/Users/iyaja/Git/llama-fs/scratch.ipynb',\n",
       "  'file_name': 'scratch.ipynb',\n",
       "  'file_size': 7717,\n",
       "  'creation_date': '2024-05-11',\n",
       "  'last_modified_date': '2024-05-11'},\n",
       " {'content': '\\n\\n\\nreader = SimpleDirectoryReader(input_dir=\"path/to/directory\")\\ndocuments = reader.load_data()\\ndoc_dicts = [{\"content\": d.text, **d.metadata} for d in documents]\\n\\n\\n# In[ ]:\\n\\n\\ndoc_dicts\\n\\n\\n# In[ ]:\\n\\n\\nPROMPT = f\"\"\"\\nThe following is a list of file contents, along with their metadata. For each file, provide a summary of the contents.\\n\\n{doc_dicts}\\n\\nReturn a JSON list with the following schema:\\n\\n```json\\n{{\\n  \"files\": [\\n    {{\\n      \"filename\": \"name of the file\",\\n      \"summary\": \"summary of the content\"\\n    }}\\n  ]\\n}}\\n```\\n\"\"\".strip()\\n\\n\\n# In[ ]:\\n\\n\\nclient = Groq(\\n    api_key=os.environ.get(\"GROQ_API_KEY\"),\\n)\\n\\nchat_completion = client.chat.completions.create(\\n    messages=[\\n        {\\n            \"role\": \"system\",\\n            \"content\": \"Always return JSON. Do not include any other text or formatting characters.\",\\n        },\\n        {\\n            \"role\": \"user\",\\n            \"content\": PROMPT,\\n        },\\n    ],\\n    model=\"llama3-70b-8192\",\\n    response_format={\"type\": \"json_object\"},\\n)\\n\\nsummaries = json.loads(chat_completion.choices[0].message.content)[\"files\"]\\n\\n\\n# In[ ]:\\n\\n\\nsummaries\\n\\n\\n# # Create File Tree\\n# \\n\\n# In[ ]:\\n\\n\\nPROMPT = f\"\"\"\\nThe following is a list of files and a summary of their contents. Read them carefully, then propose a directory structure that optimally organizes the files using known conventions and best practices.\\n\\n{summaries}\\n\\nYou will solve this task by adding a `path` key to the JSON object below. The value of the `path` key should be the path to the file that you think is the most relevant to the summary.\\n\"\"\".strip()\\n\\n\\n# In[ ]:\\n\\n\\nclient = Groq(\\n    api_key=os.environ.get(\"GROQ_API_KEY\"),\\n)\\n\\nchat_completion = client.chat.completions.create(\\n    messages=[\\n        {\\n            \"role\": \"system\",\\n            \"content\": \"Always return JSON. Do not include any other text or formatting characters.\",\\n        },\\n        {\\n            \"role\": \"user\",\\n            \"content\": PROMPT,\\n        },\\n    ],\\n    model=\"llama3-70b-8192\",\\n    # response_format={\"type\": \"json_object\"},\\n)\\n\\nfile_tree = json.loads(chat_completion.choices[0].message.content)\\n\\n\\n# In[ ]:\\n\\n\\n\\n\\n\\n# In[ ]:\\n\\n\\n\\n\\n',\n",
       "  'file_path': '/Users/iyaja/Git/llama-fs/scratch.ipynb',\n",
       "  'file_name': 'scratch.ipynb',\n",
       "  'file_size': 7717,\n",
       "  'creation_date': '2024-05-11',\n",
       "  'last_modified_date': '2024-05-11'}]"
      ]
     },
     "execution_count": 9,
     "metadata": {},
     "output_type": "execute_result"
    }
   ],
   "source": [
    "doc_dicts"
   ]
  },
  {
   "cell_type": "code",
   "execution_count": 10,
   "metadata": {
    "metadata": {}
   },
   "outputs": [],
   "source": [
    "PROMPT = f\"\"\"\n",
    "The following is a list of file contents, along with their metadata. For each file, provide a summary of the contents.\n",
    "\n",
    "{doc_dicts}\n",
    "\n",
    "Return a JSON list with the following schema:\n",
    "\n",
    "```json\n",
    "{{\n",
    "  \"files\": [\n",
    "    {{\n",
    "      \"filename\": \"name of the file\",\n",
    "      \"summary\": \"summary of the content\"\n",
    "    }}\n",
    "  ]\n",
    "}}\n",
    "```\n",
    "\"\"\".strip()"
   ]
  },
  {
   "cell_type": "code",
   "execution_count": 11,
   "metadata": {
    "metadata": {}
   },
   "outputs": [],
   "source": [
    "client = Groq(\n",
    "    api_key=os.environ.get(\"GROQ_API_KEY\"),\n",
    ")\n",
    "\n",
    "chat_completion = client.chat.completions.create(\n",
    "    messages=[\n",
    "        {\n",
    "            \"role\": \"system\",\n",
    "            \"content\": \"Always return JSON. Do not include any other text or formatting characters.\",\n",
    "        },\n",
    "        {\n",
    "            \"role\": \"user\",\n",
    "            \"content\": PROMPT,\n",
    "        },\n",
    "    ],\n",
    "    model=\"llama3-70b-8192\",\n",
    "    response_format={\"type\": \"json_object\"},\n",
    ")\n",
    "\n",
    "summaries = json.loads(chat_completion.choices[0].message.content)[\"files\"]"
   ]
  },
  {
   "cell_type": "code",
   "execution_count": 12,
   "metadata": {
    "metadata": {}
   },
   "outputs": [
    {
     "data": {
      "text/plain": [
       "[{'filename': 'LICENSE', 'summary': 'MIT license information'},\n",
       " {'filename': 'loader.py',\n",
       "  'summary': 'Function definition for getting document summaries'},\n",
       " {'filename': 'requirements.txt',\n",
       "  'summary': 'List of dependencies for the project'},\n",
       " {'filename': 'scratch.ipynb',\n",
       "  'summary': 'Code for interacting with LLaMA and Groq'},\n",
       " {'filename': 'scratch.ipynb',\n",
       "  'summary': 'Code for interacting with LLaMA and Groq'},\n",
       " {'filename': 'scratch.ipynb',\n",
       "  'summary': 'Code for interacting with LLaMA and Groq'}]"
      ]
     },
     "execution_count": 12,
     "metadata": {},
     "output_type": "execute_result"
    }
   ],
   "source": [
    "summaries"
   ]
  },
  {
   "cell_type": "markdown",
   "metadata": {},
   "source": [
    "# Create File Tree\n"
   ]
  },
  {
   "cell_type": "code",
   "execution_count": 13,
   "metadata": {
    "metadata": {}
   },
   "outputs": [],
   "source": [
    "PROMPT = f\"\"\"\n",
    "The following is a list of files and a summary of their contents. Read them carefully, then propose a directory structure that optimally organizes the files using known conventions and best practices.\n",
    "\n",
    "{summaries}\n",
    "\n",
    "You will solve this task by adding a `path` key to the JSON object below. The value of the `path` key should be the path to the file that you think is the most relevant to the summary.\n",
    "\"\"\".strip()"
   ]
  },
  {
   "cell_type": "code",
   "execution_count": 14,
   "metadata": {
    "metadata": {}
   },
   "outputs": [],
   "source": [
    "client = Groq(\n",
    "    api_key=os.environ.get(\"GROQ_API_KEY\"),\n",
    ")\n",
    "\n",
    "chat_completion = client.chat.completions.create(\n",
    "    messages=[\n",
    "        {\n",
    "            \"role\": \"system\",\n",
    "            \"content\": \"Always return JSON. Do not include any other text or formatting characters.\",\n",
    "        },\n",
    "        {\n",
    "            \"role\": \"user\",\n",
    "            \"content\": PROMPT,\n",
    "        },\n",
    "    ],\n",
    "    model=\"llama3-70b-8192\",\n",
    "    # response_format={\"type\": \"json_object\"},\n",
    ")\n",
    "\n",
    "file_tree = json.loads(chat_completion.choices[0].message.content)"
   ]
  },
  {
   "cell_type": "code",
   "execution_count": 16,
   "metadata": {
    "metadata": {}
   },
   "outputs": [],
   "source": [
    "import pathlib"
   ]
  },
  {
   "cell_type": "code",
   "execution_count": 24,
   "metadata": {
    "metadata": {}
   },
   "outputs": [],
   "source": [
    "BASE_DIR = pathlib.Path(\"test_dir\")\n",
    "BASE_DIR.mkdir(exist_ok=True)\n",
    "\n",
    "for file in file_tree:\n",
    "    file[\"path\"] = pathlib.Path(file[\"path\"])\n",
    "    # Create file in specified base directory\n",
    "    (BASE_DIR / file[\"path\"]).parent.mkdir(parents=True, exist_ok=True)\n",
    "    with open(BASE_DIR / file[\"path\"], \"w\") as f:\n",
    "        f.write(\"\")"
   ]
  },
  {
   "cell_type": "code",
   "execution_count": 26,
   "metadata": {
    "metadata": {}
   },
   "outputs": [
    {
     "ename": "JSONDecodeError",
     "evalue": "Extra data: line 4 column 6 (char 98)",
     "output_type": "error",
     "traceback": [
      "\u001b[0;31m---------------------------------------------------------------------------\u001b[0m",
      "\u001b[0;31mJSONDecodeError\u001b[0m                           Traceback (most recent call last)",
      "Input \u001b[0;32mIn [26]\u001b[0m, in \u001b[0;36m<cell line: 1>\u001b[0;34m()\u001b[0m\n\u001b[0;32m----> 1\u001b[0m \u001b[43mjson\u001b[49m\u001b[38;5;241;43m.\u001b[39;49m\u001b[43mloads\u001b[49m\u001b[43m(\u001b[49m\u001b[38;5;124;43m'\u001b[39;49m\u001b[38;5;124;43m{\u001b[39;49m\u001b[38;5;130;43;01m\\n\u001b[39;49;00m\u001b[38;5;124;43m        \u001b[39;49m\u001b[38;5;124;43m\"\u001b[39;49m\u001b[38;5;124;43mfile_path\u001b[39;49m\u001b[38;5;124;43m\"\u001b[39;49m\u001b[38;5;124;43m: \u001b[39;49m\u001b[38;5;124;43m\"\u001b[39;49m\u001b[38;5;124;43m/Users/iyaja/Git/llama-fs/LICENSE\u001b[39;49m\u001b[38;5;124;43m\"\u001b[39;49m\u001b[38;5;124;43m,\u001b[39;49m\u001b[38;5;130;43;01m\\n\u001b[39;49;00m\u001b[38;5;124;43m        \u001b[39;49m\u001b[38;5;124;43m\"\u001b[39;49m\u001b[38;5;124;43msummary\u001b[39;49m\u001b[38;5;124;43m\"\u001b[39;49m\u001b[38;5;124;43m: \u001b[39;49m\u001b[38;5;124;43m\"\u001b[39;49m\u001b[38;5;124;43mMIT License\u001b[39;49m\u001b[38;5;124;43m\"\u001b[39;49m\u001b[38;5;130;43;01m\\n\u001b[39;49;00m\u001b[38;5;124;43m    },\u001b[39;49m\u001b[38;5;130;43;01m\\n\u001b[39;49;00m\u001b[38;5;124;43m    \u001b[39;49m\u001b[38;5;124;43m{\u001b[39;49m\u001b[38;5;130;43;01m\\n\u001b[39;49;00m\u001b[38;5;124;43m        \u001b[39;49m\u001b[38;5;124;43m\"\u001b[39;49m\u001b[38;5;124;43mfile_path\u001b[39;49m\u001b[38;5;124;43m\"\u001b[39;49m\u001b[38;5;124;43m: \u001b[39;49m\u001b[38;5;124;43m\"\u001b[39;49m\u001b[38;5;124;43m/Users/iyaja/Git/llama-fs/main.py\u001b[39;49m\u001b[38;5;124;43m\"\u001b[39;49m\u001b[38;5;124;43m,\u001b[39;49m\u001b[38;5;130;43;01m\\n\u001b[39;49;00m\u001b[38;5;124;43m        \u001b[39;49m\u001b[38;5;124;43m\"\u001b[39;49m\u001b[38;5;124;43msummary\u001b[39;49m\u001b[38;5;124;43m\"\u001b[39;49m\u001b[38;5;124;43m: \u001b[39;49m\u001b[38;5;124;43m\"\u001b[39;49m\u001b[38;5;124;43mPython script\u001b[39;49m\u001b[38;5;124;43m\"\u001b[39;49m\u001b[38;5;130;43;01m\\n\u001b[39;49;00m\u001b[38;5;124;43m    },\u001b[39;49m\u001b[38;5;130;43;01m\\n\u001b[39;49;00m\u001b[38;5;124;43m    \u001b[39;49m\u001b[38;5;124;43m{\u001b[39;49m\u001b[38;5;130;43;01m\\n\u001b[39;49;00m\u001b[38;5;124;43m        \u001b[39;49m\u001b[38;5;124;43m\"\u001b[39;49m\u001b[38;5;124;43mfile_path\u001b[39;49m\u001b[38;5;124;43m\"\u001b[39;49m\u001b[38;5;124;43m: \u001b[39;49m\u001b[38;5;124;43m\"\u001b[39;49m\u001b[38;5;124;43m/Users/iyaja/Git/llama-fs/requirements.txt\u001b[39;49m\u001b[38;5;124;43m\"\u001b[39;49m\u001b[38;5;124;43m,\u001b[39;49m\u001b[38;5;130;43;01m\\n\u001b[39;49;00m\u001b[38;5;124;43m        \u001b[39;49m\u001b[38;5;124;43m\"\u001b[39;49m\u001b[38;5;124;43msummary\u001b[39;49m\u001b[38;5;124;43m\"\u001b[39;49m\u001b[38;5;124;43m: \u001b[39;49m\u001b[38;5;124;43m\"\u001b[39;49m\u001b[38;5;124;43mList of dependencies\u001b[39;49m\u001b[38;5;124;43m\"\u001b[39;49m\u001b[38;5;130;43;01m\\n\u001b[39;49;00m\u001b[38;5;124;43m    },\u001b[39;49m\u001b[38;5;130;43;01m\\n\u001b[39;49;00m\u001b[38;5;124;43m    \u001b[39;49m\u001b[38;5;124;43m{\u001b[39;49m\u001b[38;5;130;43;01m\\n\u001b[39;49;00m\u001b[38;5;124;43m        \u001b[39;49m\u001b[38;5;124;43m\"\u001b[39;49m\u001b[38;5;124;43mfile_path\u001b[39;49m\u001b[38;5;124;43m\"\u001b[39;49m\u001b[38;5;124;43m: \u001b[39;49m\u001b[38;5;124;43m\"\u001b[39;49m\u001b[38;5;124;43m/Users/iyaja/Git/llama-fs/scratch.ipynb\u001b[39;49m\u001b[38;5;124;43m\"\u001b[39;49m\u001b[38;5;124;43m,\u001b[39;49m\u001b[38;5;130;43;01m\\n\u001b[39;49;00m\u001b[38;5;124;43m        \u001b[39;49m\u001b[38;5;124;43m\"\u001b[39;49m\u001b[38;5;124;43msummary\u001b[39;49m\u001b[38;5;124;43m\"\u001b[39;49m\u001b[38;5;124;43m: \u001b[39;49m\u001b[38;5;124;43m\"\u001b[39;49m\u001b[38;5;124;43mJupyter notebook\u001b[39;49m\u001b[38;5;124;43m\"\u001b[39;49m\u001b[38;5;130;43;01m\\n\u001b[39;49;00m\u001b[38;5;124;43m    }\u001b[39;49m\u001b[38;5;124;43m'\u001b[39;49m\u001b[43m)\u001b[49m\n",
      "File \u001b[0;32m~/mambaforge/lib/python3.9/json/__init__.py:346\u001b[0m, in \u001b[0;36mloads\u001b[0;34m(s, cls, object_hook, parse_float, parse_int, parse_constant, object_pairs_hook, **kw)\u001b[0m\n\u001b[1;32m    341\u001b[0m     s \u001b[38;5;241m=\u001b[39m s\u001b[38;5;241m.\u001b[39mdecode(detect_encoding(s), \u001b[38;5;124m'\u001b[39m\u001b[38;5;124msurrogatepass\u001b[39m\u001b[38;5;124m'\u001b[39m)\n\u001b[1;32m    343\u001b[0m \u001b[38;5;28;01mif\u001b[39;00m (\u001b[38;5;28mcls\u001b[39m \u001b[38;5;129;01mis\u001b[39;00m \u001b[38;5;28;01mNone\u001b[39;00m \u001b[38;5;129;01mand\u001b[39;00m object_hook \u001b[38;5;129;01mis\u001b[39;00m \u001b[38;5;28;01mNone\u001b[39;00m \u001b[38;5;129;01mand\u001b[39;00m\n\u001b[1;32m    344\u001b[0m         parse_int \u001b[38;5;129;01mis\u001b[39;00m \u001b[38;5;28;01mNone\u001b[39;00m \u001b[38;5;129;01mand\u001b[39;00m parse_float \u001b[38;5;129;01mis\u001b[39;00m \u001b[38;5;28;01mNone\u001b[39;00m \u001b[38;5;129;01mand\u001b[39;00m\n\u001b[1;32m    345\u001b[0m         parse_constant \u001b[38;5;129;01mis\u001b[39;00m \u001b[38;5;28;01mNone\u001b[39;00m \u001b[38;5;129;01mand\u001b[39;00m object_pairs_hook \u001b[38;5;129;01mis\u001b[39;00m \u001b[38;5;28;01mNone\u001b[39;00m \u001b[38;5;129;01mand\u001b[39;00m \u001b[38;5;129;01mnot\u001b[39;00m kw):\n\u001b[0;32m--> 346\u001b[0m     \u001b[38;5;28;01mreturn\u001b[39;00m \u001b[43m_default_decoder\u001b[49m\u001b[38;5;241;43m.\u001b[39;49m\u001b[43mdecode\u001b[49m\u001b[43m(\u001b[49m\u001b[43ms\u001b[49m\u001b[43m)\u001b[49m\n\u001b[1;32m    347\u001b[0m \u001b[38;5;28;01mif\u001b[39;00m \u001b[38;5;28mcls\u001b[39m \u001b[38;5;129;01mis\u001b[39;00m \u001b[38;5;28;01mNone\u001b[39;00m:\n\u001b[1;32m    348\u001b[0m     \u001b[38;5;28mcls\u001b[39m \u001b[38;5;241m=\u001b[39m JSONDecoder\n",
      "File \u001b[0;32m~/mambaforge/lib/python3.9/json/decoder.py:340\u001b[0m, in \u001b[0;36mJSONDecoder.decode\u001b[0;34m(self, s, _w)\u001b[0m\n\u001b[1;32m    338\u001b[0m end \u001b[38;5;241m=\u001b[39m _w(s, end)\u001b[38;5;241m.\u001b[39mend()\n\u001b[1;32m    339\u001b[0m \u001b[38;5;28;01mif\u001b[39;00m end \u001b[38;5;241m!=\u001b[39m \u001b[38;5;28mlen\u001b[39m(s):\n\u001b[0;32m--> 340\u001b[0m     \u001b[38;5;28;01mraise\u001b[39;00m JSONDecodeError(\u001b[38;5;124m\"\u001b[39m\u001b[38;5;124mExtra data\u001b[39m\u001b[38;5;124m\"\u001b[39m, s, end)\n\u001b[1;32m    341\u001b[0m \u001b[38;5;28;01mreturn\u001b[39;00m obj\n",
      "\u001b[0;31mJSONDecodeError\u001b[0m: Extra data: line 4 column 6 (char 98)"
     ]
    }
   ],
   "source": [
    "json.loads('{\\n        \"file_path\": \"/Users/iyaja/Git/llama-fs/LICENSE\",\\n        \"summary\": \"MIT License\"\\n    },\\n    {\\n        \"file_path\": \"/Users/iyaja/Git/llama-fs/main.py\",\\n        \"summary\": \"Python script\"\\n    },\\n    {\\n        \"file_path\": \"/Users/iyaja/Git/llama-fs/requirements.txt\",\\n        \"summary\": \"List of dependencies\"\\n    },\\n    {\\n        \"file_path\": \"/Users/iyaja/Git/llama-fs/scratch.ipynb\",\\n        \"summary\": \"Jupyter notebook\"\\n    }')"
   ]
  },
  {
   "cell_type": "code",
   "execution_count": null,
   "metadata": {},
   "outputs": [],
   "source": []
  }
 ],
 "metadata": {
  "kernelspec": {
   "display_name": "base",
   "language": "python",
   "name": "python3"
  },
  "language_info": {
   "codemirror_mode": {
    "name": "ipython",
    "version": 3
   },
   "file_extension": ".py",
   "mimetype": "text/x-python",
   "name": "python",
   "nbconvert_exporter": "python",
   "pygments_lexer": "ipython3",
   "version": "3.9.15"
  }
 },
 "nbformat": 4,
 "nbformat_minor": 2
}
