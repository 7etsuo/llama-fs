{
 "cells": [
  {
   "cell_type": "code",
   "execution_count": null,
   "metadata": {
    "metadata": {}
   },
   "outputs": [],
   "source": [
    "import openai\n",
    "import groq\n",
    "import os\n",
    "import json\n",
    "from groq import Groq\n",
    "from llama_index.core import SimpleDirectoryReader\n"
   ]
  },
  {
   "cell_type": "code",
   "execution_count": null,
   "metadata": {
    "metadata": {}
   },
   "outputs": [],
   "source": [
    "os.environ[\"GROQ_API_KEY\"] = \"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\""
   ]
  },
  {
   "cell_type": "markdown",
   "metadata": {},
   "source": [
    "# Summarize Files\n"
   ]
  },
  {
   "cell_type": "code",
   "execution_count": null,
   "metadata": {
    "metadata": {}
   },
   "outputs": [],
   "source": [
    "reader = SimpleDirectoryReader(input_dir=\".\")\n",
    "documents = reader.load_data()\n",
    "doc_dicts = [{\"content\": d.text, **d.metadata} for d in documents]"
   ]
  },
  {
   "cell_type": "code",
   "execution_count": null,
   "metadata": {
    "metadata": {}
   },
   "outputs": [],
   "source": [
    "doc_dicts"
   ]
  },
  {
   "cell_type": "code",
   "execution_count": null,
   "metadata": {
    "metadata": {}
   },
   "outputs": [],
   "source": [
    "PROMPT = f\"\"\"\n",
    "The following is a list of file contents, along with their metadata. For each file, provide a summary of the contents.\n",
    "\n",
    "{doc_dicts}\n",
    "\n",
    "Return a JSON list with the following schema:\n",
    "\n",
    "```json\n",
    "{{\n",
    "  \"files\": [\n",
    "    {{\n",
    "      \"filename\": \"name of the file\",\n",
    "      \"summary\": \"summary of the content\"\n",
    "    }}\n",
    "  ]\n",
    "}}\n",
    "```\n",
    "\"\"\".strip()"
   ]
  },
  {
   "cell_type": "code",
   "execution_count": null,
   "metadata": {
    "metadata": {}
   },
   "outputs": [],
   "source": [
    "client = Groq(\n",
    "    api_key=os.environ.get(\"GROQ_API_KEY\"),\n",
    ")\n",
    "\n",
    "chat_completion = client.chat.completions.create(\n",
    "    messages=[\n",
    "        {\n",
    "            \"role\": \"system\",\n",
    "            \"content\": \"Always return JSON. Do not include any other text or formatting characters.\",\n",
    "        },\n",
    "        {\n",
    "            \"role\": \"user\",\n",
    "            \"content\": PROMPT,\n",
    "        },\n",
    "    ],\n",
    "    model=\"llama3-70b-8192\",\n",
    "    response_format={\"type\": \"json_object\"},\n",
    ")\n",
    "\n",
    "summaries = json.loads(chat_completion.choices[0].message.content)[\"files\"]"
   ]
  },
  {
   "cell_type": "code",
   "execution_count": null,
   "metadata": {
    "metadata": {}
   },
   "outputs": [],
   "source": [
    "summaries"
   ]
  },
  {
   "cell_type": "markdown",
   "metadata": {},
   "source": [
    "# Create File Tree\n"
   ]
  },
  {
   "cell_type": "code",
   "execution_count": null,
   "metadata": {
    "metadata": {}
   },
   "outputs": [],
   "source": [
    "PROMPT = f\"\"\"\n",
    "The following is a list of files and a summary of their contents. Read them carefully, then propose a directory structure that optimally organizes the files using known conventions and best practices.\n",
    "\n",
    "{summaries}\n",
    "\n",
    "You will solve this task by adding a `path` key to the JSON object below. The value of the `path` key should be the path to the file that you think is the most relevant to the summary.\n",
    "\"\"\".strip()"
   ]
  },
  {
   "cell_type": "code",
   "execution_count": null,
   "metadata": {
    "metadata": {}
   },
   "outputs": [],
   "source": [
    "client = Groq(\n",
    "    api_key=os.environ.get(\"GROQ_API_KEY\"),\n",
    ")\n",
    "\n",
    "chat_completion = client.chat.completions.create(\n",
    "    messages=[\n",
    "        {\n",
    "            \"role\": \"system\",\n",
    "            \"content\": \"Always return JSON. Do not include any other text or formatting characters.\",\n",
    "        },\n",
    "        {\n",
    "            \"role\": \"user\",\n",
    "            \"content\": PROMPT,\n",
    "        },\n",
    "    ],\n",
    "    model=\"llama3-70b-8192\",\n",
    "    # response_format={\"type\": \"json_object\"},\n",
    ")\n",
    "\n",
    "file_tree = json.loads(chat_completion.choices[0].message.content)"
   ]
  },
  {
   "cell_type": "code",
   "execution_count": null,
   "metadata": {
    "metadata": {}
   },
   "outputs": [],
   "source": [
    "import pathlib"
   ]
  },
  {
   "cell_type": "code",
   "execution_count": null,
   "metadata": {
    "metadata": {}
   },
   "outputs": [],
   "source": [
    "BASE_DIR = pathlib.Path(\"test_dir\")\n",
    "BASE_DIR.mkdir(exist_ok=True)\n",
    "\n",
    "for file in file_tree:\n",
    "    file[\"path\"] = pathlib.Path(file[\"path\"])\n",
    "    # Create file in specified base directory\n",
    "    (BASE_DIR / file[\"path\"]).parent.mkdir(parents=True, exist_ok=True)\n",
    "    with open(BASE_DIR / file[\"path\"], \"w\") as f:\n",
    "        f.write(\"\")"
   ]
  },
  {
   "cell_type": "code",
   "execution_count": null,
   "metadata": {
    "metadata": {}
   },
   "outputs": [],
   "source": [
    "json.loads('{\\n        \"file_path\": \"/Users/iyaja/Git/llama-fs/LICENSE\",\\n        \"summary\": \"MIT License\"\\n    },\\n    {\\n        \"file_path\": \"/Users/iyaja/Git/llama-fs/main.py\",\\n        \"summary\": \"Python script\"\\n    },\\n    {\\n        \"file_path\": \"/Users/iyaja/Git/llama-fs/requirements.txt\",\\n        \"summary\": \"List of dependencies\"\\n    },\\n    {\\n        \"file_path\": \"/Users/iyaja/Git/llama-fs/scratch.ipynb\",\\n        \"summary\": \"Jupyter notebook\"\\n    }')"
   ]
  },
  {
   "cell_type": "markdown",
   "metadata": {},
   "source": [
    "# Test Server"
   ]
  },
  {
   "cell_type": "code",
   "execution_count": null,
   "metadata": {
    "metadata": {}
   },
   "outputs": [],
   "source": [
    "import requests"
   ]
  },
  {
   "cell_type": "code",
   "execution_count": 23,
   "metadata": {
    "metadata": {}
   },
   "outputs": [
    {
     "data": {
      "text/plain": [
       "[{'src_path': 'electron-react-app/assets/icon.png',\n",
       "  'dst_path': 'electron-react-app/assets/icons/icon.png',\n",
       "  'summary': '\\nThe image features a blue circle with a white dot in the center, surrounded by six smaller circles. The larger circle is positioned at the top left corner of the image and has a gray background. The smaller circles are evenly distributed around the central circle, creating a sense of balance within the design.'},\n",
       " {'src_path': 'electron-react-app/assets/icons/1024x1024.png',\n",
       "  'dst_path': 'electron-react-app/assets/icons/1024x1024.png',\n",
       "  'summary': '\\nThe image features a blue circle with a white dot in the center, which is an atom. The atom has two electrons and one proton, all of which are located at the center of the circle. The entire scene is set against a black background, making the blue circle stand out prominently.'},\n",
       " {'src_path': 'electron-react-app/assets/icons/128x128.png',\n",
       "  'dst_path': 'electron-react-app/assets/icons/128x128.png',\n",
       "  'summary': '\\nThe image features a blue circle with a white dot in the center, which is a depiction of an atom. The atom has three distinct particles: two electrons and one proton, all located at the center of the circle. The entire scene is set against a black background, making the blue circle and its atomic representation stand out prominently.'},\n",
       " {'src_path': 'electron-react-app/assets/icons/16x16.png',\n",
       "  'dst_path': 'electron-react-app/assets/icons/16x16.png',\n",
       "  'summary': '\\nThe image shows a close-up view of a black circle with a white center, set against a blue background. The circle is slightly tilted to the left and appears to be in focus, drawing attention to its details.'},\n",
       " {'src_path': 'electron-react-app/assets/icons/24x24.png',\n",
       "  'dst_path': 'electron-react-app/assets/icons/24x24.png',\n",
       "  'summary': '\\nThe image features a circular logo with a black center and a white border. The logo is composed of six distinct points, each radiating outwards from the center in a symmetrical arrangement. The background of the image is a dark blue color, providing a stark contrast to the white border and black center of the logo.'},\n",
       " {'src_path': 'electron-react-app/assets/icons/256x256.png',\n",
       "  'dst_path': 'electron-react-app/assets/icons/256x256.png',\n",
       "  'summary': '\\nThe image features a blue circle with a white dot in the center, surrounded by six smaller circles. The larger circle is positioned at the top left corner of the image and has a gray background. The smaller circles are evenly distributed around the central circle, creating a sense of balance within the design.'},\n",
       " {'src_path': 'electron-react-app/assets/icons/32x32.png',\n",
       "  'dst_path': 'electron-react-app/assets/icons/32x32.png',\n",
       "  'summary': '\\nThe image features a circular logo with a blue center and a white outline. The logo is composed of three lines, each connected to the center by a point. The lines are arranged in a triangular formation, creating an interesting visual effect against the black background.'},\n",
       " {'src_path': 'electron-react-app/assets/icons/48x48.png',\n",
       "  'dst_path': 'electron-react-app/assets/icons/48x48.png',\n",
       "  'summary': '\\nThe image features a circular logo with a blue background and white dots. The logo is composed of three circles, each containing a small dot in the center. These dots are arranged in a triangular formation within the larger circle, creating an eye-catching design.'},\n",
       " {'src_path': 'electron-react-app/assets/icons/512x512.png',\n",
       "  'dst_path': 'electron-react-app/assets/icons/512x512.png',\n",
       "  'summary': '\\nThe image features a blue circle with a white dot in the center, which is a depiction of an atom. The atom has three distinct particles: two electrons and one proton, all arranged around the central dot. The entire scene is set against a black background, making the blue circle and its atomic representation stand out prominently.'},\n",
       " {'src_path': 'electron-react-app/assets/icons/64x64.png',\n",
       "  'dst_path': 'electron-react-app/assets/icons/64x64.png',\n",
       "  'summary': \"\\nThe image features a blue circle with a white dot in the center, which is a depiction of an atom. The atom has three distinct particles: two electrons and one proton, all located at the center of the circle. The background of the image is black, providing a stark contrast to the vibrant blue color of the circle and the white dot representing the atom's core.\"},\n",
       " {'src_path': 'electron-react-app/assets/icons/96x96.png',\n",
       "  'dst_path': 'electron-react-app/assets/icons/96x96.png',\n",
       "  'summary': '\\nThe image features a blue circle with a white dot in the center, which is a depiction of an atom. The atom has three distinct particles: two electrons and one proton, all located at the center of the circle. The entire scene is set against a black background, making the blue circle and its atomic representation stand out prominently.'}]"
      ]
     },
     "execution_count": 23,
     "metadata": {},
     "output_type": "execute_result"
    }
   ],
   "source": [
    "requests.post(\n",
    "    \"http://127.0.0.1:8000/batch\",\n",
    "    json={\"path\": \"/Users/iyaja/Git/llama-fs\"},\n",
    ").json()"
   ]
  },
  {
   "cell_type": "markdown",
   "metadata": {},
   "source": [
    "# Fix the mess that is Llama Index"
   ]
  },
  {
   "cell_type": "code",
   "execution_count": null,
   "metadata": {
    "metadata": {}
   },
   "outputs": [],
   "source": [
    "from llama_index.core import SimpleDirectoryReader\n",
    "from llama_index.core import Document\n",
    "from llama_index.core.node_parser import TokenTextSplitter"
   ]
  },
  {
   "cell_type": "code",
   "execution_count": null,
   "metadata": {
    "metadata": {}
   },
   "outputs": [],
   "source": [
    "splitter = TokenTextSplitter(chunk_size=6144)"
   ]
  },
  {
   "cell_type": "code",
   "execution_count": null,
   "metadata": {
    "metadata": {}
   },
   "outputs": [],
   "source": [
    "reader = SimpleDirectoryReader(input_dir=\".\", recursive=True)\n",
    "all_docs = []\n",
    "for docs in reader.iter_data():\n",
    "    # <do something with the documents per file>\n",
    "    if len(docs) > 1:\n",
    "        text = splitter.split_text(\"\\n\".join([d.text for d in docs]))[0]\n",
    "        docs = [Document(text=text, metadata=docs[0].metadata)]\n",
    "    all_docs.extend(docs)"
   ]
  },
  {
   "cell_type": "code",
   "execution_count": null,
   "metadata": {},
   "outputs": [],
   "source": []
  }
 ],
 "metadata": {
  "kernelspec": {
   "display_name": "base",
   "language": "python",
   "name": "python3"
  },
  "language_info": {
   "codemirror_mode": {
    "name": "ipython",
    "version": 3
   },
   "file_extension": ".py",
   "mimetype": "text/x-python",
   "name": "python",
   "nbconvert_exporter": "python",
   "pygments_lexer": "ipython3",
   "version": "3.9.15"
  }
 },
 "nbformat": 4,
 "nbformat_minor": 2
}
